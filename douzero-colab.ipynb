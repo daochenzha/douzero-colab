{
  "nbformat": 4,
  "nbformat_minor": 0,
  "metadata": {
    "colab": {
      "name": "douzero.ipynb",
      "provenance": [],
      "collapsed_sections": [],
      "authorship_tag": "ABX9TyO6W5UcPkGt+P8I0uPZH0zw",
      "include_colab_link": true
    },
    "kernelspec": {
      "name": "python3",
      "display_name": "Python 3"
    },
    "language_info": {
      "name": "python"
    },
    "accelerator": "GPU"
  },
  "cells": [
    {
      "cell_type": "markdown",
      "metadata": {
        "id": "view-in-github",
        "colab_type": "text"
      },
      "source": [
        "<a href=\"https://colab.research.google.com/github/daochenzha/douzero-colab/blob/main/douzero-colab.ipynb\" target=\"_parent\"><img src=\"https://colab.research.google.com/assets/colab-badge.svg\" alt=\"Open In Colab\"/></a>"
      ]
    },
    {
      "cell_type": "markdown",
      "metadata": {
        "id": "MMg-i5_4bOBe"
      },
      "source": [
        "# Notebook for DouZero"
      ]
    },
    {
      "cell_type": "markdown",
      "metadata": {
        "id": "-1nc0sCwUlA1"
      },
      "source": [
        "First, install the dependencies with pip"
      ]
    },
    {
      "cell_type": "code",
      "metadata": {
        "colab": {
          "base_uri": "https://localhost:8080/"
        },
        "id": "e68lWAYAP1-3",
        "outputId": "961a130c-d94c-4657-b797-c10b30f04393"
      },
      "source": [
        "%pip install torch==1.6.0\n",
        "%pip install GitPython==3.0.5\n",
        "%pip install gitdb2==2.0.6\n",
        "%pip install rlcard"
      ],
      "execution_count": 1,
      "outputs": [
        {
          "output_type": "stream",
          "text": [
            "Collecting torch==1.6.0\n",
            "\u001b[?25l  Downloading https://files.pythonhosted.org/packages/5d/5e/35140615fc1f925023f489e71086a9ecc188053d263d3594237281284d82/torch-1.6.0-cp37-cp37m-manylinux1_x86_64.whl (748.8MB)\n",
            "\u001b[K     |████████████████████████████████| 748.8MB 25kB/s \n",
            "\u001b[?25hRequirement already satisfied: future in /usr/local/lib/python3.7/dist-packages (from torch==1.6.0) (0.16.0)\n",
            "Requirement already satisfied: numpy in /usr/local/lib/python3.7/dist-packages (from torch==1.6.0) (1.19.5)\n",
            "\u001b[31mERROR: torchvision 0.9.1+cu101 has requirement torch==1.8.1, but you'll have torch 1.6.0 which is incompatible.\u001b[0m\n",
            "\u001b[31mERROR: torchtext 0.9.1 has requirement torch==1.8.1, but you'll have torch 1.6.0 which is incompatible.\u001b[0m\n",
            "Installing collected packages: torch\n",
            "  Found existing installation: torch 1.8.1+cu101\n",
            "    Uninstalling torch-1.8.1+cu101:\n",
            "      Successfully uninstalled torch-1.8.1+cu101\n",
            "Successfully installed torch-1.6.0\n",
            "Collecting GitPython==3.0.5\n",
            "\u001b[?25l  Downloading https://files.pythonhosted.org/packages/20/8c/4543981439d23c4ff65b2e62dddd767ebc84a8e664a9b67e840d1e2730d3/GitPython-3.0.5-py3-none-any.whl (455kB)\n",
            "\u001b[K     |████████████████████████████████| 460kB 7.0MB/s \n",
            "\u001b[?25hCollecting gitdb2>=2.0.0\n",
            "  Downloading https://files.pythonhosted.org/packages/52/7e/59f96b47f671b3fe0aa0c1b609531a540434b719a10c417581e25b383909/gitdb2-4.0.2-py3-none-any.whl\n",
            "Collecting gitdb>=4.0.1\n",
            "\u001b[?25l  Downloading https://files.pythonhosted.org/packages/ea/e8/f414d1a4f0bbc668ed441f74f44c116d9816833a48bf81d22b697090dba8/gitdb-4.0.7-py3-none-any.whl (63kB)\n",
            "\u001b[K     |████████████████████████████████| 71kB 6.8MB/s \n",
            "\u001b[?25hCollecting smmap<5,>=3.0.1\n",
            "  Downloading https://files.pythonhosted.org/packages/68/ee/d540eb5e5996eb81c26ceffac6ee49041d473bc5125f2aa995cf51ec1cf1/smmap-4.0.0-py2.py3-none-any.whl\n",
            "Installing collected packages: smmap, gitdb, gitdb2, GitPython\n",
            "Successfully installed GitPython-3.0.5 gitdb-4.0.7 gitdb2-4.0.2 smmap-4.0.0\n",
            "Collecting gitdb2==2.0.6\n",
            "\u001b[?25l  Downloading https://files.pythonhosted.org/packages/03/6c/99296f89bad2ef85626e1df9f677acbee8885bb043ad82ad3ed4746d2325/gitdb2-2.0.6-py2.py3-none-any.whl (63kB)\n",
            "\u001b[K     |████████████████████████████████| 71kB 6.4MB/s \n",
            "\u001b[?25hCollecting smmap2>=2.0.0\n",
            "  Downloading https://files.pythonhosted.org/packages/3e/11/2dae3df2f19c43e156cce8e02c0080b46821faf816b839a2023ef7b6b84f/smmap2-3.0.1-py3-none-any.whl\n",
            "Requirement already satisfied: smmap>=3.0.1 in /usr/local/lib/python3.7/dist-packages (from smmap2>=2.0.0->gitdb2==2.0.6) (4.0.0)\n",
            "Installing collected packages: smmap2, gitdb2\n",
            "  Found existing installation: gitdb2 4.0.2\n",
            "    Uninstalling gitdb2-4.0.2:\n",
            "      Successfully uninstalled gitdb2-4.0.2\n",
            "Successfully installed gitdb2-2.0.6 smmap2-3.0.1\n",
            "Collecting rlcard\n",
            "\u001b[?25l  Downloading https://files.pythonhosted.org/packages/e2/43/336781b09c896a1db2fc33de07f8b52528eb36d92c963ea17b6e3ba49f67/rlcard-1.0.2.tar.gz (250kB)\n",
            "\u001b[K     |████████████████████████████████| 256kB 7.5MB/s \n",
            "\u001b[?25hRequirement already satisfied: numpy>=1.16.3 in /usr/local/lib/python3.7/dist-packages (from rlcard) (1.19.5)\n",
            "Requirement already satisfied: termcolor in /usr/local/lib/python3.7/dist-packages (from rlcard) (1.1.0)\n",
            "Building wheels for collected packages: rlcard\n",
            "  Building wheel for rlcard (setup.py) ... \u001b[?25l\u001b[?25hdone\n",
            "  Created wheel for rlcard: filename=rlcard-1.0.2-cp37-none-any.whl size=307202 sha256=b4c4cb8f6f7e616c8d91b373b636be6c42d4bfa8939273af2b6616df247efa4e\n",
            "  Stored in directory: /root/.cache/pip/wheels/77/89/ca/f06d1e3aa24faf0cfd39984608f57e659a7167682a9db5a701\n",
            "Successfully built rlcard\n",
            "Installing collected packages: rlcard\n",
            "Successfully installed rlcard-1.0.2\n"
          ],
          "name": "stdout"
        }
      ]
    },
    {
      "cell_type": "markdown",
      "metadata": {
        "id": "9TjPUT7GUtMv"
      },
      "source": [
        "Then install douzero with pip"
      ]
    },
    {
      "cell_type": "code",
      "metadata": {
        "colab": {
          "base_uri": "https://localhost:8080/"
        },
        "id": "w3lEGa3kP_V2",
        "outputId": "ed3a1bdc-84a7-4245-8090-b71e5cc4acf3"
      },
      "source": [
        "%pip install douzero"
      ],
      "execution_count": 1,
      "outputs": [
        {
          "output_type": "stream",
          "text": [
            "Requirement already satisfied: douzero in /usr/local/lib/python3.7/dist-packages (1.0.5)\n",
            "Requirement already satisfied: rlcard in /usr/local/lib/python3.7/dist-packages (from douzero) (1.0.2)\n",
            "Requirement already satisfied: torch in /usr/local/lib/python3.7/dist-packages (from douzero) (1.6.0)\n",
            "Requirement already satisfied: numpy>=1.16.3 in /usr/local/lib/python3.7/dist-packages (from rlcard->douzero) (1.19.5)\n",
            "Requirement already satisfied: termcolor in /usr/local/lib/python3.7/dist-packages (from rlcard->douzero) (1.1.0)\n",
            "Requirement already satisfied: future in /usr/local/lib/python3.7/dist-packages (from torch->douzero) (0.16.0)\n"
          ],
          "name": "stdout"
        }
      ]
    },
    {
      "cell_type": "markdown",
      "metadata": {
        "id": "i1Q_7SGlUyl5"
      },
      "source": [
        "Train douzero with"
      ]
    },
    {
      "cell_type": "code",
      "metadata": {
        "colab": {
          "base_uri": "https://localhost:8080/"
        },
        "id": "ThJOp_H3RRFk",
        "outputId": "9fba25ee-a5b9-4bb9-d795-592e04929cf8"
      },
      "source": [
        "import os\n",
        "\n",
        "from douzero.dmc import parser, train\n",
        "\n",
        "if __name__ == '__main__':\n",
        "    # To get all defaults:\n",
        "    flags = parser.parse_args([])\n",
        "    train(flags)"
      ],
      "execution_count": 5,
      "outputs": [
        {
          "output_type": "stream",
          "text": [
            "Creating log directory: douzero_checkpoints/douzero\n",
            "Saving arguments to douzero_checkpoints/douzero/meta.json\n",
            "Saving messages to douzero_checkpoints/douzero/out.log\n",
            "Saving logs data to douzero_checkpoints/douzero/logs.csv\n",
            "Saving logs' fields to douzero_checkpoints/douzero/fields.csv\n",
            "[INFO:61 dmc:173 2021-06-17 14:12:21,064] Saving checkpoint to douzero_checkpoints/douzero/model.tar\n",
            "[INFO:61 dmc:215 2021-06-17 14:12:21,432] After 0 (L:0 U:0 D:0) frames: @ 0.0 fps (L:0.0 U:0.0 D:0.0) Stats:\n",
            "{'loss_landlord': 0,\n",
            " 'loss_landlord_down': 0,\n",
            " 'loss_landlord_up': 0,\n",
            " 'mean_episode_return_landlord': 0,\n",
            " 'mean_episode_return_landlord_down': 0,\n",
            " 'mean_episode_return_landlord_up': 0}\n",
            "[INFO:61 dmc:215 2021-06-17 14:12:26,451] After 0 (L:0 U:0 D:0) frames: @ 0.0 fps (L:0.0 U:0.0 D:0.0) Stats:\n",
            "{'loss_landlord': 0,\n",
            " 'loss_landlord_down': 0,\n",
            " 'loss_landlord_up': 0,\n",
            " 'mean_episode_return_landlord': 0,\n",
            " 'mean_episode_return_landlord_down': 0,\n",
            " 'mean_episode_return_landlord_up': 0}\n",
            "[INFO:61 dmc:215 2021-06-17 14:12:31,458] After 0 (L:0 U:0 D:0) frames: @ 0.0 fps (L:0.0 U:0.0 D:0.0) Stats:\n",
            "{'loss_landlord': 0,\n",
            " 'loss_landlord_down': 0,\n",
            " 'loss_landlord_up': 0,\n",
            " 'mean_episode_return_landlord': 0,\n",
            " 'mean_episode_return_landlord_down': 0,\n",
            " 'mean_episode_return_landlord_up': 0}\n",
            "Updated log fields: ['_tick', '_time', 'frames', 'mean_episode_return_landlord', 'loss_landlord', 'mean_episode_return_landlord_up', 'loss_landlord_up', 'mean_episode_return_landlord_down', 'loss_landlord_down']\n",
            "[INFO:61 dmc:215 2021-06-17 14:12:36,465] After 9600 (L:3200 U:3200 D:3200) frames: @ 1918.2 fps (L:639.4 U:639.4 D:639.4) Stats:\n",
            "{'loss_landlord': 1.8993996381759644,\n",
            " 'loss_landlord_down': 1.8768446445465088,\n",
            " 'loss_landlord_up': 1.87959623336792,\n",
            " 'mean_episode_return_landlord': -0.7086092829704285,\n",
            " 'mean_episode_return_landlord_down': 0.7105263471603394,\n",
            " 'mean_episode_return_landlord_up': 0.7115384936332703}\n",
            "[INFO:61 dmc:215 2021-06-17 14:12:41,472] After 9600 (L:3200 U:3200 D:3200) frames: @ 0.0 fps (L:0.0 U:0.0 D:0.0) Stats:\n",
            "{'loss_landlord': 1.8993996381759644,\n",
            " 'loss_landlord_down': 1.8768446445465088,\n",
            " 'loss_landlord_up': 1.87959623336792,\n",
            " 'mean_episode_return_landlord': -0.7086092829704285,\n",
            " 'mean_episode_return_landlord_down': 0.7105263471603394,\n",
            " 'mean_episode_return_landlord_up': 0.7115384936332703}\n",
            "[INFO:61 dmc:215 2021-06-17 14:12:46,482] After 9600 (L:3200 U:3200 D:3200) frames: @ 0.0 fps (L:0.0 U:0.0 D:0.0) Stats:\n",
            "{'loss_landlord': 1.8993996381759644,\n",
            " 'loss_landlord_down': 1.8768446445465088,\n",
            " 'loss_landlord_up': 1.87959623336792,\n",
            " 'mean_episode_return_landlord': -0.7086092829704285,\n",
            " 'mean_episode_return_landlord_down': 0.7105263471603394,\n",
            " 'mean_episode_return_landlord_up': 0.7115384936332703}\n",
            "[INFO:61 dmc:215 2021-06-17 14:12:51,491] After 9600 (L:3200 U:3200 D:3200) frames: @ 0.0 fps (L:0.0 U:0.0 D:0.0) Stats:\n",
            "{'loss_landlord': 1.8993996381759644,\n",
            " 'loss_landlord_down': 1.8768446445465088,\n",
            " 'loss_landlord_up': 1.87959623336792,\n",
            " 'mean_episode_return_landlord': -0.7086092829704285,\n",
            " 'mean_episode_return_landlord_down': 0.7105263471603394,\n",
            " 'mean_episode_return_landlord_up': 0.7115384936332703}\n",
            "[INFO:61 dmc:215 2021-06-17 14:12:56,503] After 19200 (L:6400 U:6400 D:6400) frames: @ 1918.3 fps (L:639.4 U:639.4 D:639.4) Stats:\n",
            "{'loss_landlord': 1.9955297708511353,\n",
            " 'loss_landlord_down': 1.9719254970550537,\n",
            " 'loss_landlord_up': 1.9776852130889893,\n",
            " 'mean_episode_return_landlord': -0.704914391040802,\n",
            " 'mean_episode_return_landlord_down': 0.6975250840187073,\n",
            " 'mean_episode_return_landlord_up': 0.7016994953155518}\n",
            "[INFO:61 dmc:215 2021-06-17 14:13:01,510] After 19200 (L:6400 U:6400 D:6400) frames: @ 0.0 fps (L:0.0 U:0.0 D:0.0) Stats:\n",
            "{'loss_landlord': 1.9955297708511353,\n",
            " 'loss_landlord_down': 1.9719254970550537,\n",
            " 'loss_landlord_up': 1.9776852130889893,\n",
            " 'mean_episode_return_landlord': -0.704914391040802,\n",
            " 'mean_episode_return_landlord_down': 0.6975250840187073,\n",
            " 'mean_episode_return_landlord_up': 0.7016994953155518}\n",
            "[INFO:61 dmc:215 2021-06-17 14:13:06,518] After 19200 (L:6400 U:6400 D:6400) frames: @ 0.0 fps (L:0.0 U:0.0 D:0.0) Stats:\n",
            "{'loss_landlord': 1.9955297708511353,\n",
            " 'loss_landlord_down': 1.9719254970550537,\n",
            " 'loss_landlord_up': 1.9776852130889893,\n",
            " 'mean_episode_return_landlord': -0.704914391040802,\n",
            " 'mean_episode_return_landlord_down': 0.6975250840187073,\n",
            " 'mean_episode_return_landlord_up': 0.7016994953155518}\n",
            "[INFO:61 dmc:215 2021-06-17 14:13:11,533] After 19200 (L:6400 U:6400 D:6400) frames: @ 0.0 fps (L:0.0 U:0.0 D:0.0) Stats:\n",
            "{'loss_landlord': 1.9955297708511353,\n",
            " 'loss_landlord_down': 1.9719254970550537,\n",
            " 'loss_landlord_up': 1.9776852130889893,\n",
            " 'mean_episode_return_landlord': -0.704914391040802,\n",
            " 'mean_episode_return_landlord_down': 0.6975250840187073,\n",
            " 'mean_episode_return_landlord_up': 0.7016994953155518}\n",
            "[INFO:61 dmc:215 2021-06-17 14:13:16,545] After 28800 (L:9600 U:9600 D:9600) frames: @ 1918.2 fps (L:639.4 U:639.4 D:639.4) Stats:\n",
            "{'loss_landlord': 1.9791436195373535,\n",
            " 'loss_landlord_down': 1.9458624124526978,\n",
            " 'loss_landlord_up': 1.973987340927124,\n",
            " 'mean_episode_return_landlord': -0.8160967826843262,\n",
            " 'mean_episode_return_landlord_down': 0.8239911794662476,\n",
            " 'mean_episode_return_landlord_up': 0.8241826295852661}\n",
            "[INFO:61 dmc:215 2021-06-17 14:13:21,559] After 28800 (L:9600 U:9600 D:9600) frames: @ 0.0 fps (L:0.0 U:0.0 D:0.0) Stats:\n",
            "{'loss_landlord': 1.9791436195373535,\n",
            " 'loss_landlord_down': 1.9458624124526978,\n",
            " 'loss_landlord_up': 1.973987340927124,\n",
            " 'mean_episode_return_landlord': -0.8160967826843262,\n",
            " 'mean_episode_return_landlord_down': 0.8239911794662476,\n",
            " 'mean_episode_return_landlord_up': 0.8241826295852661}\n",
            "[INFO:61 dmc:215 2021-06-17 14:13:26,570] After 28800 (L:9600 U:9600 D:9600) frames: @ 0.0 fps (L:0.0 U:0.0 D:0.0) Stats:\n",
            "{'loss_landlord': 1.9791436195373535,\n",
            " 'loss_landlord_down': 1.9458624124526978,\n",
            " 'loss_landlord_up': 1.973987340927124,\n",
            " 'mean_episode_return_landlord': -0.8160967826843262,\n",
            " 'mean_episode_return_landlord_down': 0.8239911794662476,\n",
            " 'mean_episode_return_landlord_up': 0.8241826295852661}\n",
            "[INFO:61 dmc:215 2021-06-17 14:13:31,582] After 28800 (L:9600 U:9600 D:9600) frames: @ 0.0 fps (L:0.0 U:0.0 D:0.0) Stats:\n",
            "{'loss_landlord': 1.9791436195373535,\n",
            " 'loss_landlord_down': 1.9458624124526978,\n",
            " 'loss_landlord_up': 1.973987340927124,\n",
            " 'mean_episode_return_landlord': -0.8160967826843262,\n",
            " 'mean_episode_return_landlord_down': 0.8239911794662476,\n",
            " 'mean_episode_return_landlord_up': 0.8241826295852661}\n",
            "[INFO:61 dmc:215 2021-06-17 14:13:36,593] After 38400 (L:12800 U:12800 D:12800) frames: @ 1918.2 fps (L:639.4 U:639.4 D:639.4) Stats:\n",
            "{'loss_landlord': 0.9573000073432922,\n",
            " 'loss_landlord_down': 0.8597041368484497,\n",
            " 'loss_landlord_up': 1.0627100467681885,\n",
            " 'mean_episode_return_landlord': -0.8950674533843994,\n",
            " 'mean_episode_return_landlord_down': 0.8995590209960938,\n",
            " 'mean_episode_return_landlord_up': 0.9022833108901978}\n",
            "[INFO:61 dmc:215 2021-06-17 14:13:41,608] After 38400 (L:12800 U:12800 D:12800) frames: @ 0.0 fps (L:0.0 U:0.0 D:0.0) Stats:\n",
            "{'loss_landlord': 0.9573000073432922,\n",
            " 'loss_landlord_down': 0.8597041368484497,\n",
            " 'loss_landlord_up': 1.0627100467681885,\n",
            " 'mean_episode_return_landlord': -0.8950674533843994,\n",
            " 'mean_episode_return_landlord_down': 0.8995590209960938,\n",
            " 'mean_episode_return_landlord_up': 0.9022833108901978}\n",
            "[INFO:61 dmc:215 2021-06-17 14:13:46,621] After 38400 (L:12800 U:12800 D:12800) frames: @ 0.0 fps (L:0.0 U:0.0 D:0.0) Stats:\n",
            "{'loss_landlord': 0.9573000073432922,\n",
            " 'loss_landlord_down': 0.8597041368484497,\n",
            " 'loss_landlord_up': 1.0627100467681885,\n",
            " 'mean_episode_return_landlord': -0.8950674533843994,\n",
            " 'mean_episode_return_landlord_down': 0.8995590209960938,\n",
            " 'mean_episode_return_landlord_up': 0.9022833108901978}\n"
          ],
          "name": "stderr"
        }
      ]
    },
    {
      "cell_type": "markdown",
      "metadata": {
        "id": "0OJh6ct-VRYo"
      },
      "source": [
        "For evaluation, for mount your \n",
        "Google drive\n"
      ]
    },
    {
      "cell_type": "code",
      "metadata": {
        "colab": {
          "base_uri": "https://localhost:8080/"
        },
        "id": "J4h--5C0Vpoc",
        "outputId": "d8694f39-190c-4e0c-9fd0-ef22d1b26ba7"
      },
      "source": [
        "from google.colab import drive\n",
        "\n",
        "drive.flush_and_unmount()\n",
        "drive.mount('/content/gdrive')"
      ],
      "execution_count": 2,
      "outputs": [
        {
          "output_type": "stream",
          "text": [
            "Mounted at /content/gdrive\n"
          ],
          "name": "stdout"
        }
      ]
    },
    {
      "cell_type": "markdown",
      "metadata": {
        "id": "P8NsCBKYWxqi"
      },
      "source": [
        "You can download the \"baselines\" from the link in the repo and put it in your own Google Drive. We can have a double-check with `ls`:"
      ]
    },
    {
      "cell_type": "code",
      "metadata": {
        "colab": {
          "base_uri": "https://localhost:8080/"
        },
        "id": "dPld2H2YXpv3",
        "outputId": "7698bc80-cfd4-4d7f-b6ae-7eace3169230"
      },
      "source": [
        "!ls /content/gdrive/MyDrive/baselines"
      ],
      "execution_count": 3,
      "outputs": [
        {
          "output_type": "stream",
          "text": [
            "douzero_ADP  douzero_WP  sl\n"
          ],
          "name": "stdout"
        }
      ]
    },
    {
      "cell_type": "markdown",
      "metadata": {
        "id": "2AcBpxPKXuTV"
      },
      "source": [
        "Then we generate some evaluating data and save it in your drive:"
      ]
    },
    {
      "cell_type": "code",
      "metadata": {
        "colab": {
          "base_uri": "https://localhost:8080/"
        },
        "id": "LvMsmZwLX0cN",
        "outputId": "ea953314-2533-4d51-8bee-0bad2776bf74"
      },
      "source": [
        "num_games = 1000\n",
        "output_pickle = '/content/gdrive/MyDrive/douzero_eval_data.pkl'\n",
        "\n",
        "import pickle\n",
        "import numpy as np\n",
        "\n",
        "deck = []\n",
        "for i in range(3, 15):\n",
        "    deck.extend([i for _ in range(4)])\n",
        "deck.extend([17 for _ in range(4)])\n",
        "deck.extend([20, 30])\n",
        "\n",
        "def generate():\n",
        "    _deck = deck.copy()\n",
        "    np.random.shuffle(_deck)\n",
        "    card_play_data = {'landlord': _deck[:20],\n",
        "                      'landlord_up': _deck[20:37],\n",
        "                      'landlord_down': _deck[37:54],\n",
        "                      'three_landlord_cards': _deck[17:20],\n",
        "                      }\n",
        "    for key in card_play_data:\n",
        "        card_play_data[key].sort()\n",
        "    return card_play_data\n",
        "  \n",
        "\n",
        "\n",
        "print(\"output_pickle:\", output_pickle)\n",
        "print(\"generating data...\")\n",
        "\n",
        "data = []\n",
        "for _ in range(num_games):\n",
        "    data.append(generate())\n",
        "\n",
        "print(\"saving pickle file...\")\n",
        "with open(output_pickle,'wb') as g:\n",
        "    pickle.dump(data,g,pickle.HIGHEST_PROTOCOL)"
      ],
      "execution_count": 4,
      "outputs": [
        {
          "output_type": "stream",
          "text": [
            "output_pickle: /content/gdrive/MyDrive/douzero_eval_data.pkl\n",
            "generating data...\n",
            "saving pickle file...\n"
          ],
          "name": "stdout"
        }
      ]
    },
    {
      "cell_type": "markdown",
      "metadata": {
        "id": "Cid6yoRwXodx"
      },
      "source": [
        "Then, we can evaluate pre-trained ADP model with RLCard baseline with"
      ]
    },
    {
      "cell_type": "code",
      "metadata": {
        "colab": {
          "base_uri": "https://localhost:8080/"
        },
        "id": "L_oFojy7V9xM",
        "outputId": "86607f87-cefe-4b18-bd97-24d23127802a"
      },
      "source": [
        "from douzero.evaluation.simulation import evaluate\n",
        "\n",
        "evaluate(landlord='/content/gdrive/MyDrive/baselines/douzero_ADP/landlord.ckpt',\n",
        "         landlord_up='rlcard',\n",
        "         landlord_down='rlcard',\n",
        "         eval_data=output_pickle,\n",
        "         num_workers=5)"
      ],
      "execution_count": 5,
      "outputs": [
        {
          "output_type": "stream",
          "text": [
            "WP results:\n",
            "landlord : Farmers - 0.853 : 0.147\n",
            "ADP results:\n",
            "landlord : Farmers - 2.466 : -2.466\n"
          ],
          "name": "stdout"
        }
      ]
    }
  ]
}